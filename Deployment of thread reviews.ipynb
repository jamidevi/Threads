{
 "cells": [
  {
   "cell_type": "code",
   "execution_count": 1,
   "id": "7e408ace",
   "metadata": {},
   "outputs": [
    {
     "name": "stderr",
     "output_type": "stream",
     "text": [
      "C:\\Users\\DELL\\AppData\\Local\\Temp\\ipykernel_18724\\3256023112.py:11: DeprecationWarning: Please use `csr_matrix` from the `scipy.sparse` namespace, the `scipy.sparse.csr` namespace is deprecated.\n",
      "  model = pickle.load(file)\n",
      "C:\\Users\\DELL\\AppData\\Local\\Temp\\ipykernel_18724\\3256023112.py:14: DeprecationWarning: Please use `csr_matrix` from the `scipy.sparse` namespace, the `scipy.sparse.csr` namespace is deprecated.\n",
      "  vectorizer = pickle.load(file)\n",
      "[nltk_data] Downloading package stopwords to\n",
      "[nltk_data]     C:\\Users\\DELL\\AppData\\Roaming\\nltk_data...\n",
      "[nltk_data]   Package stopwords is already up-to-date!\n",
      "2023-09-08 13:59:38.660 \n",
      "  \u001b[33m\u001b[1mWarning:\u001b[0m to view this Streamlit app on a browser, run it with the following\n",
      "  command:\n",
      "\n",
      "    streamlit run C:\\Users\\DELL\\anaconda3\\lib\\site-packages\\ipykernel_launcher.py [ARGUMENTS]\n",
      "2023-09-08 13:59:38.691 `label` got an empty value. This is discouraged for accessibility reasons and may be disallowed in the future by raising an exception. Please provide a non-empty label and hide it with label_visibility if needed.\n"
     ]
    }
   ],
   "source": [
    "import streamlit as st\n",
    "import pickle\n",
    "from sklearn.feature_extraction.text import TfidfVectorizer\n",
    "from PIL import Image\n",
    "import re\n",
    "import string\n",
    "import nltk\n",
    "import spacy\n",
    "\n",
    "with open(\"svm_model.pkl\", \"rb\") as file:\n",
    "    model = pickle.load(file)\n",
    "\n",
    "with open(\"tfidf_vectorizer.pkl\", \"rb\") as file:\n",
    "    vectorizer = pickle.load(file)\n",
    "\n",
    "nltk.download('stopwords')\n",
    "stopwords = nltk.corpus.stopwords.words('english')\n",
    "\n",
    "def clean_text(text):\n",
    "    text = text.lower()\n",
    "    return text.strip()\n",
    "\n",
    "def remove_punctuation(text):\n",
    "    punctuation_free = \"\".join([i for i in text if i not in string.punctuation])\n",
    "    return punctuation_free\n",
    "\n",
    "def tokenization(text):\n",
    "    tokens = re.split(' ', text)\n",
    "    return tokens\n",
    "\n",
    "def remove_stopwords(text):\n",
    "    output = \" \".join(i for i in text if i not in stopwords)\n",
    "    return output\n",
    "\n",
    "def lemmatizer(text):\n",
    "    nlp = spacy.load('en_core_web_sm')\n",
    "    doc = nlp(text)\n",
    "    sent = [token.lemma_ for token in doc if not token.text in set(stopwords)]\n",
    "    return ' '.join(sent)\n",
    "\n",
    "st.title(\"Sentiment Analysis App\")\n",
    "st.markdown(\"By Jami Devi\")\n",
    "image = Image.open(\"sentiment.jpeg\")\n",
    "st.image(image, use_column_width=True)\n",
    "\n",
    "st.subheader(\"Enter your text here:\")\n",
    "user_input = st.text_area(\"\")\n",
    "\n",
    "if user_input:\n",
    "    user_input = clean_text(user_input)\n",
    "    user_input = remove_punctuation(user_input)\n",
    "    user_input = user_input.lower()\n",
    "    user_input = tokenization(user_input)\n",
    "    user_input = remove_stopwords(user_input)\n",
    "    user_input = lemmatizer(user_input)\n",
    "\n",
    "if st.button(\"Predict\"):\n",
    "    if user_input:\n",
    "        text_vectorized = vectorizer.transform([user_input])\n",
    "        prediction = model.predict(text_vectorized)[0]\n",
    "        st.header(\"Prediction:\")\n",
    "        if prediction == -1:\n",
    "            st.subheader(\"The sentiment of the given text is: Negative\")\n",
    "        elif prediction == 0:\n",
    "            st.subheader(\"The sentiment of the given text is: Neutral\")\n",
    "        elif prediction == 1:\n",
    "            st.subheader(\"The sentiment of the given text is: Positive\")\n",
    "    else:\n",
    "        st.subheader(\"Please enter a text for prediction.\")"
   ]
  },
  {
   "cell_type": "code",
   "execution_count": null,
   "id": "aebc2558",
   "metadata": {},
   "outputs": [],
   "source": []
  },
  {
   "cell_type": "code",
   "execution_count": null,
   "id": "6c7a3aa6",
   "metadata": {},
   "outputs": [],
   "source": []
  }
 ],
 "metadata": {
  "kernelspec": {
   "display_name": "Python 3 (ipykernel)",
   "language": "python",
   "name": "python3"
  },
  "language_info": {
   "codemirror_mode": {
    "name": "ipython",
    "version": 3
   },
   "file_extension": ".py",
   "mimetype": "text/x-python",
   "name": "python",
   "nbconvert_exporter": "python",
   "pygments_lexer": "ipython3",
   "version": "3.9.12"
  }
 },
 "nbformat": 4,
 "nbformat_minor": 5
}
